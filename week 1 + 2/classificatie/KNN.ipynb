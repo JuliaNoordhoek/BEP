{
 "cells": [
  {
   "cell_type": "code",
   "execution_count": 7,
   "id": "e8c4ee69-e495-48b7-80b6-2d3b297e0980",
   "metadata": {},
   "outputs": [
    {
     "name": "stderr",
     "output_type": "stream",
     "text": [
      "C:\\Users\\20201954\\AppData\\Local\\anaconda3\\Lib\\site-packages\\openpyxl\\styles\\stylesheet.py:226: UserWarning: Workbook contains no default style, apply openpyxl's default\n",
      "  warn(\"Workbook contains no default style, apply openpyxl's default\")\n"
     ]
    },
    {
     "name": "stdout",
     "output_type": "stream",
     "text": [
      "Accuracy van KNN: 0.58\n",
      "\n",
      "Classificatie rapport:\n",
      "              precision    recall  f1-score   support\n",
      "\n",
      "           1       0.40      0.63      0.49        49\n",
      "           2       0.55      0.72      0.62        53\n",
      "           3       0.53      0.71      0.61        49\n",
      "           4       0.45      0.47      0.46        47\n",
      "           5       0.58      0.67      0.62        45\n",
      "           6       0.60      0.64      0.62        50\n",
      "           7       0.43      0.47      0.45        51\n",
      "           8       0.51      0.81      0.62        47\n",
      "           9       0.44      0.48      0.46        50\n",
      "          10       0.73      0.42      0.54        52\n",
      "          11       0.53      0.71      0.60        41\n",
      "          12       0.57      0.40      0.47        50\n",
      "          13       0.57      0.31      0.41        51\n",
      "          14       0.82      0.20      0.32        45\n",
      "          15       0.47      0.56      0.51        39\n",
      "          16       0.66      0.60      0.63        45\n",
      "          17       0.80      0.71      0.75        45\n",
      "          18       0.75      0.69      0.72        39\n",
      "          19       0.67      0.57      0.61        46\n",
      "          20       0.49      0.41      0.44        49\n",
      "          21       0.44      0.56      0.49        45\n",
      "          22       0.40      0.41      0.40        44\n",
      "          23       0.76      0.70      0.73        50\n",
      "          24       0.84      0.70      0.76        46\n",
      "          27       0.61      0.58      0.60        53\n",
      "          28       0.56      0.60      0.58        47\n",
      "          29       0.81      0.83      0.82        47\n",
      "          30       0.85      0.70      0.77        47\n",
      "          31       0.73      0.79      0.76        47\n",
      "          32       0.68      0.53      0.60        53\n",
      "\n",
      "    accuracy                           0.58      1422\n",
      "   macro avg       0.61      0.59      0.58      1422\n",
      "weighted avg       0.61      0.58      0.58      1422\n",
      "\n"
     ]
    }
   ],
   "source": [
    "import pandas as pd\n",
    "from sklearn.model_selection import train_test_split\n",
    "from sklearn.preprocessing import StandardScaler\n",
    "from sklearn.neighbors import KNeighborsClassifier\n",
    "from sklearn.metrics import accuracy_score, classification_report\n",
    "\n",
    "# Inlezen van de dataset\n",
    "data = pd.read_excel(\"C:/Users/20201954/Desktop/data/quantitative MRI.xlsx\")\n",
    "data = data.drop(columns=['subject', 'subjectID', 'sessionID', 'muscle', 'side', 'sideID','volume', 'trk_leng', 'trk_ang', 'dix_snr']) # voor originele set\n",
    "#data = pd.read_excel(\"C:/Users/20201954/Desktop/data/cleaned_qMRI_numerical.xlsx\")\n",
    "#data = data.drop(columns=['volume', 'trk_leng', 'trk_ang', 'dix_snr'])  # voor dataset2\n",
    "\n",
    "# Vervang komma's door punten als decimalen\n",
    "data.replace(',', '.', regex=True, inplace=True)\n",
    "\n",
    "# Zet alle numerieke kolommen om naar floats (indien nodig)\n",
    "data = data.apply(pd.to_numeric, errors='coerce')\n",
    "\n",
    "# Drop eventuele rijen met ontbrekende waarden (NaN's)\n",
    "data.dropna(inplace=True)\n",
    "\n",
    "# Selecteer features en target\n",
    "X = data.drop(columns=['muscleID'])  # Alle kolommen behalve 'muscleID' (features)\n",
    "y = data['muscleID']  # De target (muscleID)\n",
    "\n",
    "# Splitsen van de data in trainings- en testset\n",
    "X_train, X_test, y_train, y_test = train_test_split(X, y, test_size=0.3, random_state=42)\n",
    "\n",
    "# Standaardiseren van de features (voor betere prestaties bij KNN)\n",
    "scaler = StandardScaler()\n",
    "X_train = scaler.fit_transform(X_train)\n",
    "X_test = scaler.transform(X_test)\n",
    "\n",
    "# KNN-model maken en trainen\n",
    "knn = KNeighborsClassifier(n_neighbors=3)  # K=3, kan worden aangepast\n",
    "knn.fit(X_train, y_train)\n",
    "\n",
    "# Voorspellingen doen op de testset\n",
    "y_pred = knn.predict(X_test)\n",
    "\n",
    "# Evalueren van het model\n",
    "accuracy = accuracy_score(y_test, y_pred)\n",
    "print(f'Accuracy van KNN: {accuracy:.2f}')\n",
    "\n",
    "# Gedetailleerd classificatierapport\n",
    "print(\"\\nClassificatie rapport:\")\n",
    "print(classification_report(y_test, y_pred))\n"
   ]
  },
  {
   "cell_type": "code",
   "execution_count": null,
   "id": "7aac7fc8-34d0-4e63-a9ce-1baf2656542e",
   "metadata": {},
   "outputs": [],
   "source": []
  }
 ],
 "metadata": {
  "kernelspec": {
   "display_name": "Python 3 (ipykernel)",
   "language": "python",
   "name": "python3"
  },
  "language_info": {
   "codemirror_mode": {
    "name": "ipython",
    "version": 3
   },
   "file_extension": ".py",
   "mimetype": "text/x-python",
   "name": "python",
   "nbconvert_exporter": "python",
   "pygments_lexer": "ipython3",
   "version": "3.12.4"
  }
 },
 "nbformat": 4,
 "nbformat_minor": 5
}
