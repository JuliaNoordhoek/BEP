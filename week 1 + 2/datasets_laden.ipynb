{
 "cells": [
  {
   "cell_type": "code",
   "execution_count": 2,
   "id": "0e4b24c0-d6f3-434a-ba80-cfbf439c36a5",
   "metadata": {},
   "outputs": [
    {
     "name": "stderr",
     "output_type": "stream",
     "text": [
      "C:\\Users\\20201954\\AppData\\Local\\anaconda3\\Lib\\site-packages\\openpyxl\\styles\\stylesheet.py:226: UserWarning: Workbook contains no default style, apply openpyxl's default\n",
      "  warn(\"Workbook contains no default style, apply openpyxl's default\")\n"
     ]
    },
    {
     "name": "stdout",
     "output_type": "stream",
     "text": [
      "     subject  subjectID  session  sessionID                 muscle  muscleID  \\\n",
      "0  MOTION001          1        1          1  Lateral_Gastrocnemius         1   \n",
      "1  MOTION001          1        1          1  Lateral_Gastrocnemius         1   \n",
      "2  MOTION001          1        1          1   Medial_Gastrocnemius         2   \n",
      "3  MOTION001          1        1          1   Medial_Gastrocnemius         2   \n",
      "4  MOTION001          1        1          1                 Soleus         3   \n",
      "\n",
      "    side  sideID    volume    trk_leng  ...   dti_snr0  dix_watfr  dix_fatfr  \\\n",
      "0   Left       1  225.5715  128.312424  ...  21.864636   0.988031   1.196883   \n",
      "1  Right       2  217.0665   74.680931  ...  26.351746   0.986770   1.323004   \n",
      "2   Left       1  445.9185   98.776443  ...  24.654427   0.981818   1.818241   \n",
      "3  Right       2  456.3810   87.850719  ...  25.463583   0.983509   1.649060   \n",
      "4   Left       1  641.4390  110.342781  ...  26.109089   0.961433   3.856707   \n",
      "\n",
      "   dix_t2star  dix_r2star    dix_snr  dix_dbond   t2_fatfr     t2_t2w  \\\n",
      "0   31.124536   32.360153  72.005936  11.016443   6.893448  29.766680   \n",
      "1   24.200849   41.488840  55.315876   8.083123   6.579949  28.542535   \n",
      "2   28.298574   35.659748  65.425865  10.307537   8.156445  30.253475   \n",
      "3   25.391251   39.659378  65.230667   7.816146   7.977058  29.786484   \n",
      "4   27.586838   36.733351  73.749279  10.102497  10.879514  30.962922   \n",
      "\n",
      "       t2_t2f  \n",
      "0  218.154770  \n",
      "1  188.994987  \n",
      "2  211.003571  \n",
      "3  204.876495  \n",
      "4  213.111839  \n",
      "\n",
      "[5 rows x 31 columns]\n",
      "  Participant Id  MRI_Sex  AGE  MRI_WEIGHT  MRI_HEIGHT  MRI_BMI  MS_WEIGHT  \\\n",
      "0      MOTION001        1   42        99.0       193.0    26.58      100.5   \n",
      "1      MOTION002        1   25        84.2       178.0    26.57       83.4   \n",
      "2      MOTION003        2   27        63.0       162.5    23.86       61.0   \n",
      "3      MOTION004        2   28        81.5       180.0    25.15       80.3   \n",
      "4      MOTION005        2   33        53.7       162.0    20.46       53.2   \n",
      "\n",
      "   MS_HEIGHT  MS_BMI  MS_Fat  ...  avgpow_isok_k_f_t  avpt_isok_k_f_t  \\\n",
      "0      193.0   26.98    12.9  ...              101.2            130.8   \n",
      "1      178.5   26.18    10.3  ...               74.1            102.1   \n",
      "2      162.3   23.16    26.6  ...               49.9             66.2   \n",
      "3      179.5   24.92    20.8  ...               74.9             96.6   \n",
      "4      162.0   20.27    22.7  ...               16.7             26.9   \n",
      "\n",
      "   pt_isok_k_e_t  pt_bw_isok_k_e_t  angpt_isok_k_e_t  torq_30_isok_k_e_t  \\\n",
      "0          215.4             214.7              79.0                54.7   \n",
      "1          225.2             272.6              84.0                83.8   \n",
      "2          145.7             239.6              73.0                57.0   \n",
      "3          180.8             226.2              72.0                86.0   \n",
      "4           72.0             136.7              47.0                55.5   \n",
      "\n",
      "   cov_isok_k_e_t  avgpow_isok_k_e_t  avpt_isok__k_e_t  aa_ratio_isok_k_t  \n",
      "0             3.3              157.7             208.0              68.80  \n",
      "1             4.9              140.6             211.4              47.91  \n",
      "2             2.5               99.4             141.9              50.17  \n",
      "3             8.3              124.3             168.7              54.48  \n",
      "4             7.4               43.4              64.0              40.14  \n",
      "\n",
      "[5 rows x 36 columns]\n"
     ]
    }
   ],
   "source": [
    "import pandas as pd\n",
    "import matplotlib.pyplot as plt\n",
    "import seaborn as sns\n",
    "\n",
    "# reading dataset \n",
    "file_1 = \"C:/Users/20201954/Desktop/data/quantitative MRI.xlsx\"\n",
    "file_2 = \"C:/Users/20201954/Desktop/data/muscle force and biometrics.xlsx\"\n",
    "df_1 = pd.read_excel(file_1)\n",
    "df_2 = pd.read_excel(file_2)\n",
    "print(df_1.head())\n",
    "print(df_2.head())"
   ]
  },
  {
   "cell_type": "code",
   "execution_count": null,
   "id": "5a8d2080-f952-4cc2-9f7b-a15b385162dd",
   "metadata": {},
   "outputs": [],
   "source": []
  }
 ],
 "metadata": {
  "kernelspec": {
   "display_name": "Python 3 (ipykernel)",
   "language": "python",
   "name": "python3"
  },
  "language_info": {
   "codemirror_mode": {
    "name": "ipython",
    "version": 3
   },
   "file_extension": ".py",
   "mimetype": "text/x-python",
   "name": "python",
   "nbconvert_exporter": "python",
   "pygments_lexer": "ipython3",
   "version": "3.12.4"
  }
 },
 "nbformat": 4,
 "nbformat_minor": 5
}
