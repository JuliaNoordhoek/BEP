{
 "cells": [
  {
   "cell_type": "code",
   "execution_count": 27,
   "id": "9626385a-a0ca-43b7-92ae-03d81b6bb5cd",
   "metadata": {},
   "outputs": [],
   "source": [
    "import pandas as pd\n",
    "import matplotlib.pyplot as plt\n",
    "import seaborn as sns\n",
    "import numpy as np\n",
    "from sklearn.preprocessing import StandardScaler, MinMaxScaler\n",
    "from sklearn.ensemble import RandomForestClassifier\n",
    "from sklearn.model_selection import train_test_split, cross_val_score\n",
    "from sklearn.metrics import accuracy_score\n",
    "from sklearn.linear_model import LogisticRegression\n",
    "from sklearn.svm import SVC\n",
    "from sklearn.neighbors import KNeighborsClassifier\n",
    "from sklearn.neural_network import MLPClassifier"
   ]
  },
  {
   "cell_type": "code",
   "execution_count": 13,
   "id": "505fced8-1037-443a-bdb9-df5d262f5d69",
   "metadata": {},
   "outputs": [],
   "source": [
    "# reading dataset \n",
    "file = \"C:/Users/20201954/Desktop/data/cleaned_qMRI_numerical.xlsx\"\n",
    "df = pd.read_excel(file)"
   ]
  },
  {
   "cell_type": "code",
   "execution_count": 14,
   "id": "f3744a83-5082-496f-b702-e7e46d7f7fad",
   "metadata": {},
   "outputs": [],
   "source": [
    "X = df.drop(columns=['muscleID']).values  # Features as a NumPy array\n",
    "y = df['muscleID'].values "
   ]
  },
  {
   "cell_type": "code",
   "execution_count": 16,
   "id": "7470a5eb-ea81-4da0-ac66-75f063ffeb0e",
   "metadata": {},
   "outputs": [],
   "source": [
    "# For Standardization\n",
    "scaler = StandardScaler()\n",
    "X_standardized = scaler.fit_transform(X)"
   ]
  },
  {
   "cell_type": "code",
   "execution_count": 18,
   "id": "e597c2d5-472c-4e01-bad3-b8e8c0b24ff0",
   "metadata": {},
   "outputs": [
    {
     "name": "stdout",
     "output_type": "stream",
     "text": [
      "[[-1.71015702e+00  4.63121652e-01  1.02023593e-01 -7.01303440e-01\n",
      "  -8.19228654e-01 -8.05157686e-01 -9.49001523e-01 -8.73722483e-01\n",
      "  -5.23194978e-02 -1.01207223e+00 -2.82347751e-01 -5.32542343e-01\n",
      "   1.20348159e+00 -1.20356938e+00  1.72199683e+00 -1.55718402e+00\n",
      "  -6.03220832e-02  5.45475300e-01 -3.12961153e-01 -2.46853035e-01\n",
      "   9.02928706e-01]\n",
      " [-1.70942884e+00 -2.07971715e+00 -1.26033037e+00 -1.50371675e+00\n",
      "  -1.11662031e+00 -1.11373111e+00 -1.56205213e+00 -1.19432203e+00\n",
      "  -4.41397796e-02 -1.56962289e+00 -6.07040102e-01  1.89461153e-01\n",
      "   1.04129117e+00 -1.04137569e+00 -1.16987942e+00  1.07636522e+00\n",
      "  -7.39095930e-01 -1.18222316e+00 -4.26035958e-01 -1.33571126e+00\n",
      "  -1.03687508e+00]\n",
      " [-1.70870067e+00  3.87163284e-01 -5.87108732e-01 -7.76438680e-01\n",
      "  -5.67011975e-01  4.15387409e-02 -5.19218803e-01 -2.70213860e-01\n",
      "  -4.60453468e-01 -5.57120471e-01 -5.31929188e-01 -8.36479296e-02\n",
      "   4.04498615e-01 -4.04491166e-01  5.41652624e-01 -6.05278706e-01\n",
      "  -3.27929261e-01  1.27936101e-01  1.42584890e-01  1.86144061e-01\n",
      "   4.27207614e-01]\n",
      " [-1.70797249e+00  2.14971700e-01 -8.46483899e-01 -9.78565357e-01\n",
      "  -6.92353038e-01  4.58622599e-03 -6.41038363e-01 -3.50589571e-01\n",
      "  -5.03951195e-01 -6.32288194e-01 -7.78175973e-01  4.65503203e-02\n",
      "   6.21989146e-01 -6.22061147e-01 -6.72674056e-01  5.48580837e-01\n",
      "  -3.35867839e-01 -1.33947033e+00  7.78824564e-02 -2.29237679e-01\n",
      "   1.96145987e-02]\n",
      " [-1.70724431e+00  6.86693636e-01  9.24233817e-01 -4.72010727e-01\n",
      "  -1.32775292e-03  1.92097050e-01 -1.14830001e-01  1.00766229e-01\n",
      "  -7.53243118e-01 -1.05259199e-01 -7.12303905e-01  1.50416195e-01\n",
      "  -2.21703876e+00  2.21701339e+00  2.44375956e-01 -2.95553381e-01\n",
      "   1.05785545e-02  7.16916368e-03  1.12475925e+00  8.17186249e-01\n",
      "   5.67456523e-01]]\n",
      "[1 1 2 2 3]\n"
     ]
    }
   ],
   "source": [
    "print(X_standardized[:5])  # Preview the first 5 rows of standardized features\n",
    "print(y[:5])  # Preview the first 5 labels"
   ]
  },
  {
   "cell_type": "code",
   "execution_count": 38,
   "id": "17cab58f-3376-4cc7-82bc-835fd789621a",
   "metadata": {},
   "outputs": [
    {
     "name": "stdout",
     "output_type": "stream",
     "text": [
      "Accuracy: 0.68\n"
     ]
    }
   ],
   "source": [
    "# Random forest\n",
    "X_train, X_test, y_train, y_test = train_test_split(X_standardized, y, test_size=0.2, random_state=42)\n",
    "\n",
    "model = RandomForestClassifier(n_estimators=100, random_state=42)\n",
    "model.fit(X_train, y_train)\n",
    "\n",
    "# Evaluate on the test set\n",
    "y_pred = model.predict(X_test)\n",
    "accuracy = accuracy_score(y_test, y_pred)\n",
    "print(f'Accuracy: {accuracy:.2f}')"
   ]
  },
  {
   "cell_type": "code",
   "execution_count": 21,
   "id": "82dfc946-398b-47b9-86eb-b6920d4cd29a",
   "metadata": {},
   "outputs": [
    {
     "name": "stdout",
     "output_type": "stream",
     "text": [
      "Logistic Regression Accuracy: 0.70\n"
     ]
    }
   ],
   "source": [
    "# logistic regression \n",
    "X_train, X_test, y_train, y_test = train_test_split(X_standardized, y, test_size=0.2, random_state=42)\n",
    "\n",
    "# Initialize and train the model\n",
    "logistic_model = LogisticRegression(random_state=42)\n",
    "logistic_model.fit(X_train, y_train)\n",
    "\n",
    "# Make predictions and evaluate\n",
    "y_pred = logistic_model.predict(X_test)\n",
    "accuracy = accuracy_score(y_test, y_pred)\n",
    "print(f'Logistic Regression Accuracy: {accuracy:.2f}')"
   ]
  },
  {
   "cell_type": "code",
   "execution_count": 23,
   "id": "3abaa6cc-7082-492f-88bb-9eb990d6cd10",
   "metadata": {},
   "outputs": [
    {
     "name": "stdout",
     "output_type": "stream",
     "text": [
      "SVM Accuracy: 0.75\n"
     ]
    }
   ],
   "source": [
    "# SVM\n",
    "X_train, X_test, y_train, y_test = train_test_split(X_standardized, y, test_size=0.2, random_state=42)\n",
    "\n",
    "# Initialize and train the model\n",
    "svm_model = SVC(kernel='rbf', random_state=42)  # 'rbf' is a common choice, but you can also try 'linear', 'poly', etc.\n",
    "svm_model.fit(X_train, y_train)\n",
    "\n",
    "# Make predictions and evaluate\n",
    "y_pred = svm_model.predict(X_test)\n",
    "accuracy = accuracy_score(y_test, y_pred)\n",
    "print(f'SVM Accuracy: {accuracy:.2f}')"
   ]
  },
  {
   "cell_type": "code",
   "execution_count": 41,
   "id": "62f0fdfd-60e9-4977-86d7-8d8e0c986601",
   "metadata": {},
   "outputs": [
    {
     "name": "stdout",
     "output_type": "stream",
     "text": [
      "k-NN Accuracy: 0.60\n"
     ]
    }
   ],
   "source": [
    "# k-NN\n",
    "X_train, X_test, y_train, y_test = train_test_split(X_standardized, y, test_size=0.2, random_state=42)\n",
    "\n",
    "# Initialize and train the model\n",
    "knn_model = KNeighborsClassifier(n_neighbors=5)  # You can experiment with different values of k\n",
    "knn_model.fit(X_train, y_train)\n",
    "\n",
    "# Make predictions and evaluate\n",
    "y_pred = knn_model.predict(X_test)\n",
    "accuracy = accuracy_score(y_test, y_pred)\n",
    "print(f'k-NN Accuracy: {accuracy:.2f}')"
   ]
  },
  {
   "cell_type": "code",
   "execution_count": 29,
   "id": "cdbad6f9-c154-4450-b307-e674ea7a7c4a",
   "metadata": {},
   "outputs": [
    {
     "name": "stdout",
     "output_type": "stream",
     "text": [
      "Neural Network (MLP) Accuracy: 0.75\n"
     ]
    }
   ],
   "source": [
    "# neural network (MLP)\n",
    "X_train, X_test, y_train, y_test = train_test_split(X_standardized, y, test_size=0.2, random_state=42)\n",
    "\n",
    "# Initialize and train the model\n",
    "mlp_model = MLPClassifier(hidden_layer_sizes=(100,), max_iter=800, random_state=42)  # You can adjust the architecture\n",
    "mlp_model.fit(X_train, y_train)\n",
    "\n",
    "# Make predictions and evaluate\n",
    "y_pred = mlp_model.predict(X_test)\n",
    "accuracy = accuracy_score(y_test, y_pred)\n",
    "print(f'Neural Network (MLP) Accuracy: {accuracy:.2f}')"
   ]
  },
  {
   "cell_type": "code",
   "execution_count": null,
   "id": "33cefa25-3782-474b-bb09-51fad60a0396",
   "metadata": {},
   "outputs": [],
   "source": []
  }
 ],
 "metadata": {
  "kernelspec": {
   "display_name": "Python 3 (ipykernel)",
   "language": "python",
   "name": "python3"
  },
  "language_info": {
   "codemirror_mode": {
    "name": "ipython",
    "version": 3
   },
   "file_extension": ".py",
   "mimetype": "text/x-python",
   "name": "python",
   "nbconvert_exporter": "python",
   "pygments_lexer": "ipython3",
   "version": "3.12.4"
  }
 },
 "nbformat": 4,
 "nbformat_minor": 5
}
