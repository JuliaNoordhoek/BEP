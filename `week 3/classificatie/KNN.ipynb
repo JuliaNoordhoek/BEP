{
 "cells": [
  {
   "cell_type": "code",
   "execution_count": 1,
   "id": "9d403bfd-2354-449f-9148-f7e3206b8d1f",
   "metadata": {},
   "outputs": [],
   "source": [
    "import pandas as pd\n",
    "from sklearn.model_selection import train_test_split\n",
    "from sklearn.preprocessing import StandardScaler\n",
    "from sklearn.neighbors import KNeighborsClassifier\n",
    "from sklearn.metrics import accuracy_score, classification_report"
   ]
  },
  {
   "cell_type": "code",
   "execution_count": 9,
   "id": "cc887fb1-3935-4ca7-9c0f-3713c984864c",
   "metadata": {},
   "outputs": [],
   "source": [
    "# Inlezen van de dataset\n",
    "data = pd.read_excel(\"C:/Users/20201954/Desktop/data/merged_data_MRI_IQR.xlsx\")\n",
    "data.replace(',', '.', regex=True, inplace=True)\n",
    "data = data.apply(pd.to_numeric, errors='coerce')\n",
    "data.dropna(inplace=True)"
   ]
  },
  {
   "cell_type": "code",
   "execution_count": 10,
   "id": "800e6f8b-1144-4c42-b76e-6803d9c2f9cc",
   "metadata": {},
   "outputs": [
    {
     "name": "stdout",
     "output_type": "stream",
     "text": [
      "Accuracy van KNN: 0.42\n",
      "\n",
      "Classificatie rapport:\n",
      "              precision    recall  f1-score   support\n",
      "\n",
      "           1       0.22      0.47      0.30        38\n",
      "           2       0.38      0.63      0.47        46\n",
      "           3       0.50      0.55      0.53        38\n",
      "           4       0.23      0.26      0.24        19\n",
      "           5       0.60      0.45      0.51        20\n",
      "           6       0.40      0.53      0.45        19\n",
      "           7       0.35      0.30      0.32        37\n",
      "           8       0.41      0.57      0.48        40\n",
      "           9       0.15      0.15      0.15        41\n",
      "          10       0.50      0.28      0.36        25\n",
      "          11       0.55      0.70      0.61        33\n",
      "          12       0.32      0.18      0.23        38\n",
      "          13       0.25      0.10      0.14        40\n",
      "          14       0.00      0.00      0.00        13\n",
      "          15       0.27      0.29      0.28        42\n",
      "          16       0.49      0.46      0.47        37\n",
      "          17       0.29      0.40      0.34        40\n",
      "          18       0.70      0.44      0.54        36\n",
      "          19       0.33      0.37      0.35        38\n",
      "          20       0.25      0.26      0.25        27\n",
      "          21       0.44      0.64      0.52        42\n",
      "          22       0.33      0.26      0.29        39\n",
      "          23       0.68      0.77      0.72        22\n",
      "          24       0.83      0.71      0.77        35\n",
      "          27       0.49      0.48      0.48        46\n",
      "          28       0.34      0.23      0.27        44\n",
      "          29       0.55      0.52      0.53        46\n",
      "          30       0.85      0.50      0.63        34\n",
      "          31       0.78      0.70      0.74        20\n",
      "          32       0.67      0.34      0.45        35\n",
      "\n",
      "    accuracy                           0.42      1030\n",
      "   macro avg       0.44      0.42      0.42      1030\n",
      "weighted avg       0.44      0.42      0.41      1030\n",
      "\n"
     ]
    },
    {
     "name": "stderr",
     "output_type": "stream",
     "text": [
      "C:\\Users\\20201954\\AppData\\Local\\anaconda3\\Lib\\site-packages\\sklearn\\metrics\\_classification.py:1509: UndefinedMetricWarning: Precision is ill-defined and being set to 0.0 in labels with no predicted samples. Use `zero_division` parameter to control this behavior.\n",
      "  _warn_prf(average, modifier, f\"{metric.capitalize()} is\", len(result))\n",
      "C:\\Users\\20201954\\AppData\\Local\\anaconda3\\Lib\\site-packages\\sklearn\\metrics\\_classification.py:1509: UndefinedMetricWarning: Precision is ill-defined and being set to 0.0 in labels with no predicted samples. Use `zero_division` parameter to control this behavior.\n",
      "  _warn_prf(average, modifier, f\"{metric.capitalize()} is\", len(result))\n",
      "C:\\Users\\20201954\\AppData\\Local\\anaconda3\\Lib\\site-packages\\sklearn\\metrics\\_classification.py:1509: UndefinedMetricWarning: Precision is ill-defined and being set to 0.0 in labels with no predicted samples. Use `zero_division` parameter to control this behavior.\n",
      "  _warn_prf(average, modifier, f\"{metric.capitalize()} is\", len(result))\n"
     ]
    }
   ],
   "source": [
    "# Selecteer features en target\n",
    "X = data.drop(columns=['muscleID'])  # Alle kolommen behalve 'muscleID' (features)\n",
    "y = data['muscleID']  # De target (muscleID)\n",
    "\n",
    "# Splitsen van de data in trainings- en testset\n",
    "X_train, X_test, y_train, y_test = train_test_split(X, y, test_size=0.3, random_state=42)\n",
    "\n",
    "# Standaardiseren van de features (voor betere prestaties bij KNN)\n",
    "scaler = StandardScaler()\n",
    "X_train = scaler.fit_transform(X_train)\n",
    "X_test = scaler.transform(X_test)\n",
    "\n",
    "# KNN-model maken en trainen\n",
    "knn = KNeighborsClassifier(n_neighbors=3)  # K=3, kan worden aangepast\n",
    "knn.fit(X_train, y_train)\n",
    "\n",
    "# Voorspellingen doen op de testset\n",
    "y_pred = knn.predict(X_test)\n",
    "\n",
    "# Evalueren van het model\n",
    "accuracy = accuracy_score(y_test, y_pred)\n",
    "print(f'Accuracy van KNN: {accuracy:.2f}')\n",
    "\n",
    "# Gedetailleerd classificatierapport\n",
    "print(\"\\nClassificatie rapport:\")\n",
    "print(classification_report(y_test, y_pred))"
   ]
  },
  {
   "cell_type": "code",
   "execution_count": null,
   "id": "8ce7c1d1-8b2f-4726-8e17-7e13612c12dd",
   "metadata": {},
   "outputs": [],
   "source": []
  }
 ],
 "metadata": {
  "kernelspec": {
   "display_name": "Python 3 (ipykernel)",
   "language": "python",
   "name": "python3"
  },
  "language_info": {
   "codemirror_mode": {
    "name": "ipython",
    "version": 3
   },
   "file_extension": ".py",
   "mimetype": "text/x-python",
   "name": "python",
   "nbconvert_exporter": "python",
   "pygments_lexer": "ipython3",
   "version": "3.12.4"
  }
 },
 "nbformat": 4,
 "nbformat_minor": 5
}
